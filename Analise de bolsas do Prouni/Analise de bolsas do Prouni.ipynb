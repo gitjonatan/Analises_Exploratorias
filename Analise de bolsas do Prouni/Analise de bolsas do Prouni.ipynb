{
 "cells": [
  {
   "cell_type": "markdown",
   "id": "6d7bd2be",
   "metadata": {},
   "source": [
    "## Alguns insights de uma base de dados da distribuição de bolsas do Prouni \n",
    "\n",
    "Dataset disponível em: http://dadosabertos.mec.gov.br/images/conteudo/prouni/2020/ProuniRelatorioDadosAbertos2020.csv"
   ]
  },
  {
   "cell_type": "code",
   "execution_count": 34,
   "id": "fc0941d8",
   "metadata": {},
   "outputs": [],
   "source": [
    "import pandas as pd\n",
    "import numpy as np\n",
    "import matplotlib.pyplot as plt\n",
    "import seaborn as sns\n",
    "import warnings\n",
    "warnings.filterwarnings('ignore')"
   ]
  },
  {
   "cell_type": "code",
   "execution_count": 35,
   "id": "992fa76d",
   "metadata": {},
   "outputs": [],
   "source": [
    "dados = pd.read_csv('ProuniRelatorioDadosAbertos2020.csv',sep=\";\", encoding='ISO-8859-1')"
   ]
  },
  {
   "cell_type": "code",
   "execution_count": 36,
   "id": "943eca1b",
   "metadata": {},
   "outputs": [
    {
     "data": {
      "text/html": [
       "<div>\n",
       "<style scoped>\n",
       "    .dataframe tbody tr th:only-of-type {\n",
       "        vertical-align: middle;\n",
       "    }\n",
       "\n",
       "    .dataframe tbody tr th {\n",
       "        vertical-align: top;\n",
       "    }\n",
       "\n",
       "    .dataframe thead th {\n",
       "        text-align: right;\n",
       "    }\n",
       "</style>\n",
       "<table border=\"1\" class=\"dataframe\">\n",
       "  <thead>\n",
       "    <tr style=\"text-align: right;\">\n",
       "      <th></th>\n",
       "      <th>ANO_CONCESSAO_BOLSA</th>\n",
       "      <th>CODIGO_EMEC_IES_BOLSA</th>\n",
       "      <th>NOME_IES_BOLSA</th>\n",
       "      <th>MUNICIPIO</th>\n",
       "      <th>CAMPUS</th>\n",
       "      <th>TIPO_BOLSA</th>\n",
       "      <th>MODALIDADE_ENSINO_BOLSA</th>\n",
       "      <th>NOME_CURSO_BOLSA</th>\n",
       "      <th>NOME_TURNO_CURSO_BOLSA</th>\n",
       "      <th>CPF_BENEFICIARIO</th>\n",
       "      <th>SEXO_BENEFICIARIO</th>\n",
       "      <th>RACA_BENEFICIARIO</th>\n",
       "      <th>DATA_NASCIMENTO</th>\n",
       "      <th>BENEFICIARIO_DEFICIENTE_FISICO</th>\n",
       "      <th>REGIAO_BENEFICIARIO</th>\n",
       "      <th>UF_BENEFICIARIO</th>\n",
       "      <th>MUNICIPIO_BENEFICIARIO</th>\n",
       "    </tr>\n",
       "  </thead>\n",
       "  <tbody>\n",
       "    <tr>\n",
       "      <th>0</th>\n",
       "      <td>2020</td>\n",
       "      <td>322</td>\n",
       "      <td>UNIVERSIDADE PAULISTA</td>\n",
       "      <td>IPATINGA</td>\n",
       "      <td>IPATINGA</td>\n",
       "      <td>INTEGRAL</td>\n",
       "      <td>EAD</td>\n",
       "      <td>PEDAGOGIA</td>\n",
       "      <td>CURSO A DIST¶NCIA</td>\n",
       "      <td>991.XXX.XXX-91</td>\n",
       "      <td>F</td>\n",
       "      <td>Parda</td>\n",
       "      <td>11/08/1973</td>\n",
       "      <td>N</td>\n",
       "      <td>SUDESTE</td>\n",
       "      <td>MG</td>\n",
       "      <td>GOVERNADOR VALADARES</td>\n",
       "    </tr>\n",
       "    <tr>\n",
       "      <th>1</th>\n",
       "      <td>2020</td>\n",
       "      <td>163</td>\n",
       "      <td>UNIVERSIDADE ESTµCIO DE Sµ</td>\n",
       "      <td>FORTALEZA</td>\n",
       "      <td>EAD VIA CORPVS - CE</td>\n",
       "      <td>INTEGRAL</td>\n",
       "      <td>EAD</td>\n",
       "      <td>MARKETING</td>\n",
       "      <td>CURSO A DIST¶NCIA</td>\n",
       "      <td>067.XXX.XXX-01</td>\n",
       "      <td>M</td>\n",
       "      <td>Parda</td>\n",
       "      <td>13/05/1987</td>\n",
       "      <td>N</td>\n",
       "      <td>NORDESTE</td>\n",
       "      <td>CE</td>\n",
       "      <td>FORTALEZA</td>\n",
       "    </tr>\n",
       "    <tr>\n",
       "      <th>2</th>\n",
       "      <td>2020</td>\n",
       "      <td>17670</td>\n",
       "      <td>FACULDADE DE QUIXERAMOBIM</td>\n",
       "      <td>QUIXERAMOBIM</td>\n",
       "      <td>FACULDADE DE QUIXERAMOBIM - UNIQ</td>\n",
       "      <td>INTEGRAL</td>\n",
       "      <td>PRESENCIAL</td>\n",
       "      <td>FARMµCIA</td>\n",
       "      <td>NOTURNO</td>\n",
       "      <td>623.XXX.XXX-27</td>\n",
       "      <td>M</td>\n",
       "      <td>Parda</td>\n",
       "      <td>23/07/2001</td>\n",
       "      <td>N</td>\n",
       "      <td>NORDESTE</td>\n",
       "      <td>CE</td>\n",
       "      <td>MOMBACA</td>\n",
       "    </tr>\n",
       "    <tr>\n",
       "      <th>3</th>\n",
       "      <td>2020</td>\n",
       "      <td>203</td>\n",
       "      <td>UNIVERSIDADE SÇO JUDAS TADEU</td>\n",
       "      <td>SAO PAULO</td>\n",
       "      <td>PAULISTA</td>\n",
       "      <td>PARCIAL</td>\n",
       "      <td>PRESENCIAL</td>\n",
       "      <td>DIREITO</td>\n",
       "      <td>MATUTINO</td>\n",
       "      <td>089.XXX.XXX-40</td>\n",
       "      <td>F</td>\n",
       "      <td>Branca</td>\n",
       "      <td>04/04/2003</td>\n",
       "      <td>N</td>\n",
       "      <td>NORDESTE</td>\n",
       "      <td>BA</td>\n",
       "      <td>IBITITA</td>\n",
       "    </tr>\n",
       "    <tr>\n",
       "      <th>4</th>\n",
       "      <td>2020</td>\n",
       "      <td>203</td>\n",
       "      <td>UNIVERSIDADE SÇO JUDAS TADEU</td>\n",
       "      <td>SAO PAULO</td>\n",
       "      <td>PAULISTA</td>\n",
       "      <td>INTEGRAL</td>\n",
       "      <td>PRESENCIAL</td>\n",
       "      <td>DIREITO</td>\n",
       "      <td>MATUTINO</td>\n",
       "      <td>173.XXX.XXX-09</td>\n",
       "      <td>F</td>\n",
       "      <td>Branca</td>\n",
       "      <td>07/12/1977</td>\n",
       "      <td>N</td>\n",
       "      <td>SUDESTE</td>\n",
       "      <td>SP</td>\n",
       "      <td>SAO PAULO</td>\n",
       "    </tr>\n",
       "  </tbody>\n",
       "</table>\n",
       "</div>"
      ],
      "text/plain": [
       "   ANO_CONCESSAO_BOLSA  CODIGO_EMEC_IES_BOLSA                NOME_IES_BOLSA  \\\n",
       "0                 2020                    322         UNIVERSIDADE PAULISTA   \n",
       "1                 2020                    163    UNIVERSIDADE ESTµCIO DE Sµ   \n",
       "2                 2020                  17670     FACULDADE DE QUIXERAMOBIM   \n",
       "3                 2020                    203  UNIVERSIDADE SÇO JUDAS TADEU   \n",
       "4                 2020                    203  UNIVERSIDADE SÇO JUDAS TADEU   \n",
       "\n",
       "      MUNICIPIO                            CAMPUS TIPO_BOLSA  \\\n",
       "0      IPATINGA                          IPATINGA   INTEGRAL   \n",
       "1     FORTALEZA               EAD VIA CORPVS - CE   INTEGRAL   \n",
       "2  QUIXERAMOBIM  FACULDADE DE QUIXERAMOBIM - UNIQ   INTEGRAL   \n",
       "3     SAO PAULO                          PAULISTA    PARCIAL   \n",
       "4     SAO PAULO                          PAULISTA   INTEGRAL   \n",
       "\n",
       "  MODALIDADE_ENSINO_BOLSA NOME_CURSO_BOLSA NOME_TURNO_CURSO_BOLSA  \\\n",
       "0                     EAD        PEDAGOGIA      CURSO A DIST¶NCIA   \n",
       "1                     EAD        MARKETING      CURSO A DIST¶NCIA   \n",
       "2              PRESENCIAL         FARMµCIA                NOTURNO   \n",
       "3              PRESENCIAL          DIREITO               MATUTINO   \n",
       "4              PRESENCIAL          DIREITO               MATUTINO   \n",
       "\n",
       "  CPF_BENEFICIARIO SEXO_BENEFICIARIO RACA_BENEFICIARIO DATA_NASCIMENTO  \\\n",
       "0   991.XXX.XXX-91                 F             Parda      11/08/1973   \n",
       "1   067.XXX.XXX-01                 M             Parda      13/05/1987   \n",
       "2   623.XXX.XXX-27                 M             Parda      23/07/2001   \n",
       "3   089.XXX.XXX-40                 F            Branca      04/04/2003   \n",
       "4   173.XXX.XXX-09                 F            Branca      07/12/1977   \n",
       "\n",
       "  BENEFICIARIO_DEFICIENTE_FISICO REGIAO_BENEFICIARIO UF_BENEFICIARIO  \\\n",
       "0                              N             SUDESTE              MG   \n",
       "1                              N            NORDESTE              CE   \n",
       "2                              N            NORDESTE              CE   \n",
       "3                              N            NORDESTE              BA   \n",
       "4                              N             SUDESTE              SP   \n",
       "\n",
       "  MUNICIPIO_BENEFICIARIO  \n",
       "0   GOVERNADOR VALADARES  \n",
       "1              FORTALEZA  \n",
       "2                MOMBACA  \n",
       "3                IBITITA  \n",
       "4              SAO PAULO  "
      ]
     },
     "execution_count": 36,
     "metadata": {},
     "output_type": "execute_result"
    }
   ],
   "source": [
    "dados.head(5)"
   ]
  },
  {
   "cell_type": "markdown",
   "id": "59a2d679",
   "metadata": {},
   "source": [
    "### Conhecendo os Dados"
   ]
  },
  {
   "cell_type": "code",
   "execution_count": 37,
   "id": "8413a1ff",
   "metadata": {},
   "outputs": [
    {
     "name": "stdout",
     "output_type": "stream",
     "text": [
      "<class 'pandas.core.frame.DataFrame'>\n",
      "RangeIndex: 166830 entries, 0 to 166829\n",
      "Data columns (total 17 columns):\n",
      " #   Column                          Non-Null Count   Dtype \n",
      "---  ------                          --------------   ----- \n",
      " 0   ANO_CONCESSAO_BOLSA             166830 non-null  int64 \n",
      " 1   CODIGO_EMEC_IES_BOLSA           166830 non-null  int64 \n",
      " 2   NOME_IES_BOLSA                  166830 non-null  object\n",
      " 3   MUNICIPIO                       166830 non-null  object\n",
      " 4   CAMPUS                          166830 non-null  object\n",
      " 5   TIPO_BOLSA                      166830 non-null  object\n",
      " 6   MODALIDADE_ENSINO_BOLSA         166830 non-null  object\n",
      " 7   NOME_CURSO_BOLSA                166792 non-null  object\n",
      " 8   NOME_TURNO_CURSO_BOLSA          166830 non-null  object\n",
      " 9   CPF_BENEFICIARIO                166830 non-null  object\n",
      " 10  SEXO_BENEFICIARIO               166830 non-null  object\n",
      " 11  RACA_BENEFICIARIO               166830 non-null  object\n",
      " 12  DATA_NASCIMENTO                 166830 non-null  object\n",
      " 13  BENEFICIARIO_DEFICIENTE_FISICO  166830 non-null  object\n",
      " 14  REGIAO_BENEFICIARIO             166830 non-null  object\n",
      " 15  UF_BENEFICIARIO                 166830 non-null  object\n",
      " 16  MUNICIPIO_BENEFICIARIO          166830 non-null  object\n",
      "dtypes: int64(2), object(15)\n",
      "memory usage: 12.1+ MB\n"
     ]
    }
   ],
   "source": [
    "dados.info()"
   ]
  },
  {
   "cell_type": "code",
   "execution_count": 38,
   "id": "43f86c0b",
   "metadata": {},
   "outputs": [
    {
     "data": {
      "text/plain": [
       "(166830, 17)"
      ]
     },
     "execution_count": 38,
     "metadata": {},
     "output_type": "execute_result"
    }
   ],
   "source": [
    "dados.shape"
   ]
  },
  {
   "cell_type": "code",
   "execution_count": 39,
   "id": "ff6035f9",
   "metadata": {},
   "outputs": [
    {
     "data": {
      "text/html": [
       "<div>\n",
       "<style scoped>\n",
       "    .dataframe tbody tr th:only-of-type {\n",
       "        vertical-align: middle;\n",
       "    }\n",
       "\n",
       "    .dataframe tbody tr th {\n",
       "        vertical-align: top;\n",
       "    }\n",
       "\n",
       "    .dataframe thead th {\n",
       "        text-align: right;\n",
       "    }\n",
       "</style>\n",
       "<table border=\"1\" class=\"dataframe\">\n",
       "  <thead>\n",
       "    <tr style=\"text-align: right;\">\n",
       "      <th></th>\n",
       "      <th>ANO_CONCESSAO_BOLSA</th>\n",
       "      <th>CODIGO_EMEC_IES_BOLSA</th>\n",
       "    </tr>\n",
       "  </thead>\n",
       "  <tbody>\n",
       "    <tr>\n",
       "      <th>count</th>\n",
       "      <td>166830.0</td>\n",
       "      <td>166830.000000</td>\n",
       "    </tr>\n",
       "    <tr>\n",
       "      <th>mean</th>\n",
       "      <td>2020.0</td>\n",
       "      <td>2270.745022</td>\n",
       "    </tr>\n",
       "    <tr>\n",
       "      <th>std</th>\n",
       "      <td>0.0</td>\n",
       "      <td>4063.329275</td>\n",
       "    </tr>\n",
       "    <tr>\n",
       "      <th>min</th>\n",
       "      <td>2020.0</td>\n",
       "      <td>10.000000</td>\n",
       "    </tr>\n",
       "    <tr>\n",
       "      <th>25%</th>\n",
       "      <td>2020.0</td>\n",
       "      <td>322.000000</td>\n",
       "    </tr>\n",
       "    <tr>\n",
       "      <th>50%</th>\n",
       "      <td>2020.0</td>\n",
       "      <td>1196.000000</td>\n",
       "    </tr>\n",
       "    <tr>\n",
       "      <th>75%</th>\n",
       "      <td>2020.0</td>\n",
       "      <td>1952.000000</td>\n",
       "    </tr>\n",
       "    <tr>\n",
       "      <th>max</th>\n",
       "      <td>2020.0</td>\n",
       "      <td>24488.000000</td>\n",
       "    </tr>\n",
       "  </tbody>\n",
       "</table>\n",
       "</div>"
      ],
      "text/plain": [
       "       ANO_CONCESSAO_BOLSA  CODIGO_EMEC_IES_BOLSA\n",
       "count             166830.0          166830.000000\n",
       "mean                2020.0            2270.745022\n",
       "std                    0.0            4063.329275\n",
       "min                 2020.0              10.000000\n",
       "25%                 2020.0             322.000000\n",
       "50%                 2020.0            1196.000000\n",
       "75%                 2020.0            1952.000000\n",
       "max                 2020.0           24488.000000"
      ]
     },
     "execution_count": 39,
     "metadata": {},
     "output_type": "execute_result"
    }
   ],
   "source": [
    "dados.describe()"
   ]
  },
  {
   "cell_type": "code",
   "execution_count": 40,
   "id": "d676dc83",
   "metadata": {},
   "outputs": [
    {
     "data": {
      "text/plain": [
       "NOME_CURSO_BOLSA       38\n",
       "ANO_CONCESSAO_BOLSA     0\n",
       "CPF_BENEFICIARIO        0\n",
       "UF_BENEFICIARIO         0\n",
       "REGIAO_BENEFICIARIO     0\n",
       "dtype: int64"
      ]
     },
     "execution_count": 40,
     "metadata": {},
     "output_type": "execute_result"
    }
   ],
   "source": [
    "dados.isnull().sum().sort_values(ascending=False).head(5)"
   ]
  },
  {
   "cell_type": "code",
   "execution_count": 41,
   "id": "fe69593e",
   "metadata": {},
   "outputs": [
    {
     "data": {
      "text/plain": [
       "NOME_CURSO_BOLSA    0.000228\n",
       "dtype: float64"
      ]
     },
     "execution_count": 41,
     "metadata": {},
     "output_type": "execute_result"
    }
   ],
   "source": [
    "# A média de valores missing no dataframe\n",
    "dados.isna().mean().sort_values(ascending=False).head(1)"
   ]
  },
  {
   "cell_type": "code",
   "execution_count": 42,
   "id": "f4f6a79a",
   "metadata": {},
   "outputs": [],
   "source": [
    "#Como a média de valores missing é baixíssima, as linhas com esses valores podem ser excluidas sem prejuizos a análise\n",
    "#dados.dropna(axis = 0)"
   ]
  },
  {
   "cell_type": "code",
   "execution_count": 43,
   "id": "0fc23689",
   "metadata": {},
   "outputs": [],
   "source": [
    "#Convertendo a coluna de \"DATA_NASCIMENTO\" EM DATETIME\n",
    "dados['DATA_NASCIMENTO'] = pd.to_datetime(dados['DATA_NASCIMENTO'])"
   ]
  },
  {
   "cell_type": "code",
   "execution_count": 44,
   "id": "87e3b92f",
   "metadata": {},
   "outputs": [
    {
     "data": {
      "text/plain": [
       "0   1973-11-08\n",
       "1   1987-05-13\n",
       "2   2001-07-23\n",
       "3   2003-04-04\n",
       "4   1977-07-12\n",
       "Name: DATA_NASCIMENTO, dtype: datetime64[ns]"
      ]
     },
     "execution_count": 44,
     "metadata": {},
     "output_type": "execute_result"
    }
   ],
   "source": [
    "dados['DATA_NASCIMENTO'].head(5)"
   ]
  },
  {
   "cell_type": "code",
   "execution_count": 45,
   "id": "e1816b43",
   "metadata": {},
   "outputs": [
    {
     "data": {
      "text/plain": [
       "2022"
      ]
     },
     "execution_count": 45,
     "metadata": {},
     "output_type": "execute_result"
    }
   ],
   "source": [
    "# Criando a coluna Idade\n",
    "from datetime import datetime, date\n",
    "hoje = date.today().year\n",
    "hoje"
   ]
  },
  {
   "cell_type": "code",
   "execution_count": 46,
   "id": "704733f8",
   "metadata": {},
   "outputs": [
    {
     "data": {
      "text/plain": [
       "Int64Index([1929, 1946, 1946, 1947, 1947, 1950, 1950, 1952, 1953, 1953,\n",
       "            ...\n",
       "            2009, 2012, 2017, 2019, 2020, 2020, 2020, 2020, 2020, 2020],\n",
       "           dtype='int64', name='DATA_NASCIMENTO', length=166830)"
      ]
     },
     "execution_count": 46,
     "metadata": {},
     "output_type": "execute_result"
    }
   ],
   "source": [
    "ano_nasc = pd.DatetimeIndex(dados['DATA_NASCIMENTO']).year\n",
    "ano_nasc.sort_values(ascending=True)"
   ]
  },
  {
   "cell_type": "markdown",
   "id": "06f19d33",
   "metadata": {},
   "source": [
    "## Visualizando algumas variáveis"
   ]
  },
  {
   "cell_type": "markdown",
   "id": "43020fb9",
   "metadata": {},
   "source": [
    "### Os 10 cursos mais escolhidos"
   ]
  },
  {
   "cell_type": "code",
   "execution_count": 47,
   "id": "56e49d78",
   "metadata": {},
   "outputs": [
    {
     "data": {
      "text/plain": [
       "<AxesSubplot:title={'center':'Qualtidade de bolsas por faixa etaria'}>"
      ]
     },
     "execution_count": 47,
     "metadata": {},
     "output_type": "execute_result"
    },
    {
     "data": {
      "image/png": "[encoded data removed]",
      "text/plain": [
       "<Figure size 720x432 with 1 Axes>"
      ]
     },
     "metadata": {
      "needs_background": "light"
     },
     "output_type": "display_data"
    }
   ],
   "source": [
    "plt.figure(figsize=[10, 6])\n",
    "dados.NOME_CURSO_BOLSA.value_counts().head(10).plot.bar(title = \"Qualtidade de bolsas por faixa etaria\", grid = True)"
   ]
  },
  {
   "cell_type": "code",
   "execution_count": 48,
   "id": "17bbbaee",
   "metadata": {},
   "outputs": [
    {
     "data": {
      "image/png": "[encoded data removed]",
      "text/plain": [
       "<Figure size 720x432 with 1 Axes>"
      ]
     },
     "metadata": {
      "needs_background": "light"
     },
     "output_type": "display_data"
    }
   ],
   "source": [
    "#Raça que mais receberam bolsa\n",
    "plt.figure(figsize=[10, 6])\n",
    "ax = sns.countplot(y=\"RACA_BENEFICIARIO\", data=dados, palette=\"Set3\")"
   ]
  },
  {
   "cell_type": "code",
   "execution_count": 49,
   "id": "d8e4e1d6",
   "metadata": {},
   "outputs": [
    {
     "data": {
      "text/plain": [
       "1969-12-31    362\n",
       "2002-04-03    159\n",
       "2002-02-25    156\n",
       "2002-03-01    154\n",
       "2002-08-01    149\n",
       "             ... \n",
       "1965-04-19      1\n",
       "1970-03-08      1\n",
       "1967-03-21      1\n",
       "1979-12-21      1\n",
       "2019-10-23      1\n",
       "Name: DATA_NASCIMENTO, Length: 11793, dtype: int64"
      ]
     },
     "execution_count": 49,
     "metadata": {},
     "output_type": "execute_result"
    }
   ],
   "source": [
    "dados['DATA_NASCIMENTO'].value_counts()"
   ]
  },
  {
   "cell_type": "markdown",
   "id": "21775968",
   "metadata": {},
   "source": [
    "### Porcentagem de bolsa por estado"
   ]
  },
  {
   "cell_type": "code",
   "execution_count": 50,
   "id": "554fa5a9",
   "metadata": {},
   "outputs": [],
   "source": [
    "dados.reset_index(inplace=True, drop=False)"
   ]
  },
  {
   "cell_type": "code",
   "execution_count": 51,
   "id": "63337b22",
   "metadata": {},
   "outputs": [],
   "source": [
    "bolsa_regiao = dados[[\"index\",\"REGIAO_BENEFICIARIO\"]]"
   ]
  },
  {
   "cell_type": "code",
   "execution_count": 52,
   "id": "43af06cb",
   "metadata": {},
   "outputs": [],
   "source": [
    "# AGRUPANDO POR TIPO DE BOLSAS E ANO, E AGREGANDO EM UMA NOVA COLUNA UMA CONTAGEM DE BOLSAS POR ANO\n",
    "bolsa_regiao = bolsa_regiao.groupby([\"REGIAO_BENEFICIARIO\"]).agg({'index':['count']}).reset_index()"
   ]
  },
  {
   "cell_type": "code",
   "execution_count": 53,
   "id": "7b8a963e",
   "metadata": {},
   "outputs": [],
   "source": [
    "bolsa_regiao.columns = ['Regiao','Porcentagem de Bolsas']\n",
    "bolsa_regiao = bolsa_regiao.set_index('Regiao')\n",
    "c = ['#836FFF','#5F9EA0','#ADD8E6','#708090','#40E0D0']"
   ]
  },
  {
   "cell_type": "code",
   "execution_count": 54,
   "id": "bda372a7",
   "metadata": {},
   "outputs": [
    {
     "data": {
      "text/plain": [
       "<AxesSubplot:title={'center':'Porcentagem de Bolsas por região'}>"
      ]
     },
     "execution_count": 54,
     "metadata": {},
     "output_type": "execute_result"
    },
    {
     "data": {
      "text/plain": [
       "<Figure size 864x432 with 0 Axes>"
      ]
     },
     "metadata": {},
     "output_type": "display_data"
    },
    {
     "data": {
      "image/png": "[encoded data removed]",
      "text/plain": [
       "<Figure size 432x288 with 1 Axes>"
      ]
     },
     "metadata": {},
     "output_type": "display_data"
    }
   ],
   "source": [
    "plt.figure(figsize=[12, 6])\n",
    "bolsa_regiao.plot.pie(y='Porcentagem de Bolsas', legend = False, radius = 1.2, autopct='%1.1f%%',\n",
    "                      pctdistance=0.90, labeldistance=1, title = \"Porcentagem de Bolsas por região\", ylabel='',colors=c)"
   ]
  },
  {
   "cell_type": "markdown",
   "id": "246e4308",
   "metadata": {},
   "source": [
    "### Distribuição por sexo nos 10 primeiros estados"
   ]
  },
  {
   "cell_type": "code",
   "execution_count": 55,
   "id": "2af6c28d",
   "metadata": {},
   "outputs": [],
   "source": [
    "siglas_estados = dados['UF_BENEFICIARIO'].value_counts()[:10].index\n",
    "estados_sexo = dados[['SEXO_BENEFICIARIO', 'UF_BENEFICIARIO']] \\\n",
    "                .groupby('UF_BENEFICIARIO')['SEXO_BENEFICIARIO'] \\\n",
    "                .value_counts().unstack().loc[siglas_estados]\n",
    "\n",
    "estados_sexo['sum'] = estados_sexo.sum(axis=1)\n",
    "dados_estados_sex = (estados_sexo.T / estados_sexo['sum']).T[['M', 'F']]"
   ]
  },
  {
   "cell_type": "code",
   "execution_count": 56,
   "id": "b265454d",
   "metadata": {},
   "outputs": [
    {
     "data": {
      "image/png": "[encoded data removed]",
      "text/plain": [
       "<Figure size 864x432 with 1 Axes>"
      ]
     },
     "metadata": {
      "needs_background": "light"
     },
     "output_type": "display_data"
    }
   ],
   "source": [
    "fig, ax = plt.subplots(1,1,figsize=(12, 6),)\n",
    "\n",
    "ax.barh(dados_estados_sex.index[::], dados_estados_sex['M'], \n",
    "        color='#004c70', alpha=0.7, label='M')\n",
    "ax.barh(dados_estados_sex.index[::], dados_estados_sex['F'], left=dados_estados_sex['M'], \n",
    "        color='#990000', alpha=0.7, label='F')\n",
    "\n",
    "ax.set_xlim(0, 1)\n",
    "ax.set_xticks([])\n",
    "ax.set_yticklabels(dados_estados_sex.index[::], fontfamily='garamond', fontsize=11)\n",
    "\n",
    "# porcentagem de homens\n",
    "for i in dados_estados_sex.index:\n",
    "    ax.annotate(f\"{dados_estados_sex['M'][i]*100:.3}%\", \n",
    "                   xy=(dados_estados_sex['M'][i]/2, i),\n",
    "                   va = 'center', ha='center',fontsize=15, fontweight='bold', fontfamily='garamond',\n",
    "                   color='white')\n",
    "# porcentagem de mulheres\n",
    "for i in dados_estados_sex.index:\n",
    "    ax.annotate(f\"{dados_estados_sex['F'][i]*100:.3}%\", \n",
    "                   xy=(dados_estados_sex['M'][i]+dados_estados_sex['F'][i]/2, i),\n",
    "                   va = 'center', ha='center',fontsize=15, fontweight='bold', fontfamily='garamond',\n",
    "                   color='white')\n",
    "    \n",
    "\n",
    "fig.text(0.13, 0.95, 'Distribuição por sexo', fontsize=18, fontweight='bold', fontfamily='garamond')   \n",
    "  \n",
    "\n",
    "    \n",
    "ax.legend(loc='lower center', ncol=3, bbox_to_anchor=(0.5, -0.1))\n",
    "plt.gca().invert_yaxis()\n",
    "plt.show()"
   ]
  }
 ],
 "metadata": {
  "kernelspec": {
   "display_name": "Python 3 (ipykernel)",
   "language": "python",
   "name": "python3"
  },
  "language_info": {
   "codemirror_mode": {
    "name": "ipython",
    "version": 3
   },
   "file_extension": ".py",
   "mimetype": "text/x-python",
   "name": "python",
   "nbconvert_exporter": "python",
   "pygments_lexer": "ipython3",
   "version": "3.9.7"
  }
 },
 "nbformat": 4,
 "nbformat_minor": 5
}
